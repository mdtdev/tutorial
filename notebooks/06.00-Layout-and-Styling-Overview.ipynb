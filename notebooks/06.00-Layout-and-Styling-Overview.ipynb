{
 "cells": [
  {
   "cell_type": "markdown",
   "metadata": {},
   "source": [
    "<!--NAVIGATION-->\n",
    "< [*OPTIONAL* Separating the logic using classes](05.04-OPTIONAL-Widget_Events_2--Separating_concerns,_object_oriented.ipynb) | [Contents](00.00-index.ipynb) | [Layout and Styling of Jupyter widgets](06.01-widget-layout-and-styling.ipynb) >"
   ]
  },
  {
   "cell_type": "markdown",
   "metadata": {},
   "source": [
    "# Layout and Styling of Jupyter widgets\n",
    "\n",
    "This section of the tutorial describes \n",
    "\n",
    "+ How to [lay out and style Jupyter interactive widgets](06.01-widget-layout-and-styling.ipynb) to build rich and *reactive* widget-based applications.\n",
    "+ Some [high-level container widgets for laying out widget-based applications](06.01-widget-layout-and-styling.ipynb#Container-Layout-Widgets).\n",
    "+ Styling available for [some individual widgets](06.03-OPTIONAL-widget-specific-styling.ipynb) (please read this on your own).\n",
    "+ [Layout and styling of widget labels](06.02-OPTIONAL-widget-label-styling.ipynb) (please read this on your own)."
   ]
  },
  {
   "cell_type": "markdown",
   "metadata": {},
   "source": [
    "<!--NAVIGATION-->\n",
    "< [*OPTIONAL* Separating the logic using classes](05.04-OPTIONAL-Widget_Events_2--Separating_concerns,_object_oriented.ipynb) | [Contents](00.00-index.ipynb) | [Layout and Styling of Jupyter widgets](06.01-widget-layout-and-styling.ipynb) >"
   ]
  }
 ],
 "metadata": {
  "kernelspec": {
   "display_name": "Python 3",
   "language": "python",
   "name": "python3"
  },
  "language_info": {
   "codemirror_mode": {
    "name": "ipython",
    "version": 3
   },
   "file_extension": ".py",
   "mimetype": "text/x-python",
   "name": "python",
   "nbconvert_exporter": "python",
   "pygments_lexer": "ipython3",
   "version": "3.8.3"
  }
 },
 "nbformat": 4,
 "nbformat_minor": 4
}
