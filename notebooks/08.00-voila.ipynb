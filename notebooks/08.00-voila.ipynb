{
 "cells": [
  {
   "cell_type": "markdown",
   "metadata": {},
   "source": [
    "<!--NAVIGATION-->\n",
    "< [ipyvolume: 3D plotting in the notebook](07.04-ipyvolume.ipynb) | [Contents](00.00-index.ipynb) | [So easy, *voilà*!](08.01-voila-basics.ipynb) >"
   ]
  },
  {
   "cell_type": "markdown",
   "metadata": {},
   "source": [
    "# Dashboarding with widgets \n",
    "\n",
    "Using `voilà`, creating dashboards with widgets is much easier than it used to be."
   ]
  },
  {
   "cell_type": "markdown",
   "metadata": {},
   "source": [
    "<!--NAVIGATION-->\n",
    "< [ipyvolume: 3D plotting in the notebook](07.04-ipyvolume.ipynb) | [Contents](00.00-index.ipynb) | [So easy, *voilà*!](08.01-voila-basics.ipynb) >"
   ]
  }
 ],
 "metadata": {
  "kernelspec": {
   "display_name": "Python 3",
   "language": "python",
   "name": "python3"
  },
  "language_info": {
   "codemirror_mode": {
    "name": "ipython",
    "version": 3
   },
   "file_extension": ".py",
   "mimetype": "text/x-python",
   "name": "python",
   "nbconvert_exporter": "python",
   "pygments_lexer": "ipython3",
   "version": "3.8.3"
  }
 },
 "nbformat": 4,
 "nbformat_minor": 4
}
