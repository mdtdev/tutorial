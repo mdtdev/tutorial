{
 "cells": [
  {
   "cell_type": "markdown",
   "metadata": {},
   "source": [
    "<!--NAVIGATION-->\n",
    "< [*OPTIONAL* widget layout exercises](06.04-OPTIONAL-container-exercises.ipynb) | [Contents](00.00-index.ipynb) | [ipyleaflet: Interactive maps](07.01-ipyleaflet.ipynb) >"
   ]
  },
  {
   "cell_type": "markdown",
   "metadata": {},
   "source": [
    "# More widget libraries"
   ]
  },
  {
   "cell_type": "markdown",
   "metadata": {},
   "source": [
    "There are several widget libraries beyond the core `ipywidgets`. The libraries include plotting tools (bqplot and ipyvolume), an interface to three dimensional renderings (pythreejs), mapping (ipyleaflet) and more.\n",
    "\n",
    "### Author your own widgets library\n",
    "\n",
    " * [ipywidgets: Building a Custom Widget - Email Widget](https://ipywidgets.readthedocs.io/en/stable/examples/Widget%20Custom.html)\n",
    " * [medium: Authoring Custom Jupyter Widgets](https://blog.jupyter.org/authoring-custom-jupyter-widgets-2884a462e724)\n",
    " * cookiecutters:\n",
    "    * https://github.com/jupyter-widgets/widget-cookiecutter\n",
    "    * https://github.com/jupyter-widgets/widget-ts-cookiecutter\n",
    "    \n",
    "### Widgets libraries presented in this tutorial\n",
    "\n",
    "- [ipyleaflet](10.01-ipyleaflet.ipynb)\n",
    "- [pythreejs](10.02-pythreejs.ipynb)\n",
    "- [bqplot](10.03-bqplot.ipynb)\n",
    "- [ipyvolume](10.04-ipyvolume.ipynb)\n",
    "\n",
    "### Optional\n",
    "\n",
    "You can find more widgets libraries that are optional to this tutorial in the [widgets_libraries](widgets_libraries/) directory."
   ]
  },
  {
   "cell_type": "markdown",
   "metadata": {},
   "source": [
    "<!--NAVIGATION-->\n",
    "< [*OPTIONAL* widget layout exercises](06.04-OPTIONAL-container-exercises.ipynb) | [Contents](00.00-index.ipynb) | [ipyleaflet: Interactive maps](07.01-ipyleaflet.ipynb) >"
   ]
  }
 ],
 "metadata": {
  "kernelspec": {
   "display_name": "Python 3",
   "language": "python",
   "name": "python3"
  },
  "language_info": {
   "codemirror_mode": {
    "name": "ipython",
    "version": 3
   },
   "file_extension": ".py",
   "mimetype": "text/x-python",
   "name": "python",
   "nbconvert_exporter": "python",
   "pygments_lexer": "ipython3",
   "version": "3.8.3"
  }
 },
 "nbformat": 4,
 "nbformat_minor": 4
}
